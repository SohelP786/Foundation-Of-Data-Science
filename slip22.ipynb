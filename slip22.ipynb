{
 "cells": [
  {
   "cell_type": "code",
   "execution_count": 31,
   "id": "5cb5c542",
   "metadata": {},
   "outputs": [
    {
     "name": "stdout",
     "output_type": "stream",
     "text": [
      "data_scaled into 0 to 1\n",
      "[[0.25 0.4  0.   ... 0.14 0.15 0.4 ]\n",
      " [0.28 0.52 0.   ... 0.21 0.22 0.4 ]\n",
      " [0.28 0.44 0.04 ... 0.19 0.22 0.4 ]\n",
      " ...\n",
      " [0.15 0.27 0.13 ... 0.25 0.4  0.6 ]\n",
      " [0.12 0.36 0.12 ... 0.23 0.28 0.4 ]\n",
      " [0.12 0.13 0.47 ... 0.2  0.4  0.6 ]]\n",
      "---------------------------------------------------------\n",
      "\n",
      "Standerized data\n",
      " [[-0.53  0.96 -1.39 ... -0.58 -0.96 -0.79]\n",
      " [-0.3   1.97 -1.39 ...  0.13 -0.58 -0.79]\n",
      " [-0.3   1.3  -1.19 ... -0.05 -0.58 -0.79]\n",
      " ...\n",
      " [-1.16 -0.1  -0.72 ...  0.54  0.54  0.45]\n",
      " [-1.39  0.65 -0.78 ...  0.31 -0.21 -0.79]\n",
      " [-1.33 -1.22  1.02 ...  0.01  0.54  0.45]]\n",
      "\n",
      "scaled mean\n",
      " -0.0\n",
      "\n",
      "scaled standerd deviation\n",
      " 1.0\n",
      "normalize data\n",
      "[[0.1  0.01 0.   ... 0.01 0.13 0.07]\n",
      " [0.06 0.01 0.   ... 0.01 0.08 0.04]\n",
      " [0.08 0.01 0.   ... 0.01 0.1  0.05]\n",
      " ...\n",
      " [0.06 0.01 0.   ... 0.01 0.11 0.06]\n",
      " [0.06 0.01 0.   ... 0.01 0.1  0.05]\n",
      " [0.06 0.   0.01 ... 0.01 0.12 0.06]]\n"
     ]
    }
   ],
   "source": [
    "import numpy as np\n",
    "import pandas as pd\n",
    "from sklearn import preprocessing \n",
    "import scipy.stats as s\n",
    "df=pd.read_csv(\"E:/winequality-red.csv\")\n",
    "#rescaling data\n",
    "print(\"data_scaled into 0 to 1\")\n",
    "data_scaler=preprocessing.MinMaxScaler(feature_range=(0,1))\n",
    "data_scaled=data_scaler.fit_transform(df)\n",
    "print(data_scaled.round(2))\n",
    "#standaizing data\n",
    "x_scaled=preprocessing.scale(df)\n",
    "x_scaled.mean(axis=0)\n",
    "x_scaled.std(axis=0)\n",
    "print(\"---------------------------------------------------------\")\n",
    "print(\"\\nStanderized data\\n\",x_scaled.round(2))\n",
    "print(\"\\nscaled mean\\n\",s.tmean(x_scaled).round(2))\n",
    "print(\"\\nscaled standerd deviation\\n\",round(x_scaled.std(),2))\n",
    "#normalization data\n",
    "dn=preprocessing.normalize(df,norm=\"l1\")\n",
    "print(\"normalize data\")\n",
    "print(dn.round(2))"
   ]
  },
  {
   "cell_type": "code",
   "execution_count": null,
   "id": "eda1782e",
   "metadata": {},
   "outputs": [],
   "source": []
  }
 ],
 "metadata": {
  "kernelspec": {
   "display_name": "Python 3 (ipykernel)",
   "language": "python",
   "name": "python3"
  },
  "language_info": {
   "codemirror_mode": {
    "name": "ipython",
    "version": 3
   },
   "file_extension": ".py",
   "mimetype": "text/x-python",
   "name": "python",
   "nbconvert_exporter": "python",
   "pygments_lexer": "ipython3",
   "version": "3.9.13"
  }
 },
 "nbformat": 4,
 "nbformat_minor": 5
}
