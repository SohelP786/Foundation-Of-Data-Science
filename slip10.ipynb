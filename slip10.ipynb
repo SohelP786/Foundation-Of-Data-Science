{
 "cells": [
  {
   "cell_type": "code",
   "execution_count": 9,
   "id": "7603cdd1",
   "metadata": {},
   "outputs": [
    {
     "name": "stdout",
     "output_type": "stream",
     "text": [
      "Height mean 66.36755975482106\n",
      "weight mean: 161.44035683283076\n",
      "Height median: 66.31807008178464\n",
      "Weight median: 161.21292769948298\n"
     ]
    }
   ],
   "source": [
    "#Write a python program to Display column-wise mean, and median for SOCR HeightWeight dataset\n",
    "import pandas as pd\n",
    "import numpy as np\n",
    "data=pd.read_csv(\"E:/weight-height.csv\")\n",
    "#data\n",
    "print(\"Height mean\",np.mean(data['Height']))\n",
    "print(\"weight mean:\",np.mean(data['Weight']))\n",
    "print(\"Height median:\",np.median(data['Height']))\n",
    "print(\"Weight median:\",np.median(data['Weight']))"
   ]
  },
  {
   "cell_type": "code",
   "execution_count": 15,
   "id": "dd906069",
   "metadata": {},
   "outputs": [
    {
     "name": "stdout",
     "output_type": "stream",
     "text": [
      "manhattan distance between a&b= 8\n",
      "manhattan distance between a&c= 1\n"
     ]
    }
   ],
   "source": [
    "#Write a python program to compute sum of Manhattan distance between all pairs of points.\n",
    "import pandas as pd\n",
    "from scipy.spatial.distance import cityblock\n",
    "d1=pd.DataFrame({'a':[1,0,1],\n",
    "                 'b':[1,8,1],\n",
    "                 'c':[2,0,1],})\n",
    "print(\"manhattan distance between a&b=\",cityblock(d1.a,d1.b))\n",
    "print(\"manhattan distance between a&c=\",cityblock(d1.a,d1.c))"
   ]
  }
 ],
 "metadata": {
  "kernelspec": {
   "display_name": "Python 3 (ipykernel)",
   "language": "python",
   "name": "python3"
  },
  "language_info": {
   "codemirror_mode": {
    "name": "ipython",
    "version": 3
   },
   "file_extension": ".py",
   "mimetype": "text/x-python",
   "name": "python",
   "nbconvert_exporter": "python",
   "pygments_lexer": "ipython3",
   "version": "3.9.13"
  }
 },
 "nbformat": 4,
 "nbformat_minor": 5
}
