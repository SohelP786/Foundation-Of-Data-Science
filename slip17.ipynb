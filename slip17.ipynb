{
 "cells": [
  {
   "cell_type": "code",
   "execution_count": 4,
   "id": "ec3316ce",
   "metadata": {},
   "outputs": [
    {
     "data": {
      "image/png": "[encoded data removed]",
      "text/plain": [
       "<Figure size 640x480 with 1 Axes>"
      ]
     },
     "metadata": {},
     "output_type": "display_data"
    }
   ],
   "source": [
    "#Write a Python program to draw scatter plots to compare two features of the iris dataset\n",
    "import pandas as pd\n",
    "import numpy as np\n",
    "import matplotlib.pyplot as plt\n",
    "data=pd.read_csv(\"E:/Iris.csv\")\n",
    "#data\n",
    "plt.scatter(data[['SepalLengthCm']],data[['SepalWidthCm']])\n",
    "plt.show()"
   ]
  },
  {
   "cell_type": "code",
   "execution_count": 9,
   "id": "74edccf4",
   "metadata": {},
   "outputs": [
    {
     "data": {
      "text/html": [
       "<div>\n",
       "<style scoped>\n",
       "    .dataframe tbody tr th:only-of-type {\n",
       "        vertical-align: middle;\n",
       "    }\n",
       "\n",
       "    .dataframe tbody tr th {\n",
       "        vertical-align: top;\n",
       "    }\n",
       "\n",
       "    .dataframe thead th {\n",
       "        text-align: right;\n",
       "    }\n",
       "</style>\n",
       "<table border=\"1\" class=\"dataframe\">\n",
       "  <thead>\n",
       "    <tr style=\"text-align: right;\">\n",
       "      <th></th>\n",
       "      <th>name</th>\n",
       "      <th>age</th>\n",
       "      <th>sal</th>\n",
       "      <th>dept</th>\n",
       "    </tr>\n",
       "  </thead>\n",
       "  <tbody>\n",
       "    <tr>\n",
       "      <th>0</th>\n",
       "      <td>om</td>\n",
       "      <td>21</td>\n",
       "      <td>30000</td>\n",
       "      <td>comp</td>\n",
       "    </tr>\n",
       "    <tr>\n",
       "      <th>1</th>\n",
       "      <td>om</td>\n",
       "      <td>21</td>\n",
       "      <td>30000</td>\n",
       "      <td>comp</td>\n",
       "    </tr>\n",
       "    <tr>\n",
       "      <th>2</th>\n",
       "      <td>om</td>\n",
       "      <td>21</td>\n",
       "      <td>30000</td>\n",
       "      <td>comp</td>\n",
       "    </tr>\n",
       "    <tr>\n",
       "      <th>3</th>\n",
       "      <td>om</td>\n",
       "      <td>21</td>\n",
       "      <td>30000</td>\n",
       "      <td>comp</td>\n",
       "    </tr>\n",
       "    <tr>\n",
       "      <th>4</th>\n",
       "      <td>om</td>\n",
       "      <td>21</td>\n",
       "      <td>30000</td>\n",
       "      <td>comp</td>\n",
       "    </tr>\n",
       "    <tr>\n",
       "      <th>5</th>\n",
       "      <td>om</td>\n",
       "      <td>21</td>\n",
       "      <td>30000</td>\n",
       "      <td>comp</td>\n",
       "    </tr>\n",
       "    <tr>\n",
       "      <th>6</th>\n",
       "      <td>om</td>\n",
       "      <td>21</td>\n",
       "      <td>30000</td>\n",
       "      <td>comp</td>\n",
       "    </tr>\n",
       "    <tr>\n",
       "      <th>7</th>\n",
       "      <td>om</td>\n",
       "      <td>21</td>\n",
       "      <td>30000</td>\n",
       "      <td>comp</td>\n",
       "    </tr>\n",
       "  </tbody>\n",
       "</table>\n",
       "</div>"
      ],
      "text/plain": [
       "  name  age    sal  dept\n",
       "0   om   21  30000  comp\n",
       "1   om   21  30000  comp\n",
       "2   om   21  30000  comp\n",
       "3   om   21  30000  comp\n",
       "4   om   21  30000  comp\n",
       "5   om   21  30000  comp\n",
       "6   om   21  30000  comp\n",
       "7   om   21  30000  comp"
      ]
     },
     "execution_count": 9,
     "metadata": {},
     "output_type": "execute_result"
    }
   ],
   "source": [
    "#Write a Python program to create a data frame containing columns name, age , salary, \n",
    "#department . Add 10 rows to the data frame. View the data frame.\n",
    "import pandas as pd\n",
    "dt=pd.DataFrame(columns=['name','age','sal','dept'])\n",
    "dt.loc[0]=['om',21,30000,'comp']\n",
    "dt.loc[1]=['om',21,30000,'comp']\n",
    "dt.loc[2]=['om',21,30000,'comp']\n",
    "dt.loc[3]=['om',21,30000,'comp']\n",
    "dt.loc[4]=['om',21,30000,'comp']\n",
    "dt.loc[5]=['om',21,30000,'comp']\n",
    "dt.loc[6]=['om',21,30000,'comp']\n",
    "dt.loc[7]=['om',21,30000,'comp']\n",
    "dt"
   ]
  }
 ],
 "metadata": {
  "kernelspec": {
   "display_name": "Python 3 (ipykernel)",
   "language": "python",
   "name": "python3"
  },
  "language_info": {
   "codemirror_mode": {
    "name": "ipython",
    "version": 3
   },
   "file_extension": ".py",
   "mimetype": "text/x-python",
   "name": "python",
   "nbconvert_exporter": "python",
   "pygments_lexer": "ipython3",
   "version": "3.9.13"
  }
 },
 "nbformat": 4,
 "nbformat_minor": 5
}
