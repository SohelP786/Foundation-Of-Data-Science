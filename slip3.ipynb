{
 "cells": [
  {
   "cell_type": "code",
   "execution_count": 11,
   "id": "bcff3425",
   "metadata": {},
   "outputs": [
    {
     "data": {
      "text/plain": [
       "<AxesSubplot:>"
      ]
     },
     "execution_count": 11,
     "metadata": {},
     "output_type": "execute_result"
    }
   ],
   "source": [
    "#A)Write a Python program to create box plots to see how each feature i.e. Sepal Length, \n",
    "#epal Width, Petal Length, Petal Width are distributed across the three species. (Use \n",
    "#ris.csv dataset)\n",
    "import pandas as pd\n",
    "import numpy as np\n",
    "import matplotlib.pyplot as plt\n",
    "data=pd.read_csv(\"E:/Iris.csv\");\n",
    "#data\n",
    "newdata=data[[\"SepalLengthCm\",\"SepalWidthCm\",\"PetalLengthCm\",\"PetalWidthCm\"]]\n",
    "newdata.boxplot()"
   ]
  },
  {
   "cell_type": "code",
   "execution_count": 12,
   "id": "c3e48e66",
   "metadata": {},
   "outputs": [
    {
     "name": "stdout",
     "output_type": "stream",
     "text": [
      "Height Mean: 66.36755975482106\n",
      "weight mean: 161.44035683283076\n",
      "Height median: 66.31807008178464\n",
      "Weight median: 161.21292769948298\n"
     ]
    }
   ],
   "source": [
    "#Q.2 B) Write a Python program to view basic statistical details of the data (Use Heights and \n",
    "#Weights Dataset) \n",
    "import pandas as pd\n",
    "import numpy as np\n",
    "data=pd.read_csv(\"E:/weight-height.csv\");\n",
    "#data\n",
    "print(\"Height Mean:\",np.mean(data['Height']))\n",
    "print(\"weight mean:\",np.mean(data['Weight']))\n",
    "print(\"Height median:\",np.median(data['Height']))\n",
    "print(\"Weight median:\",np.median(data['Weight']))"
   ]
  }
 ],
 "metadata": {
  "kernelspec": {
   "display_name": "Python 3 (ipykernel)",
   "language": "python",
   "name": "python3"
  },
  "language_info": {
   "codemirror_mode": {
    "name": "ipython",
    "version": 3
   },
   "file_extension": ".py",
   "mimetype": "text/x-python",
   "name": "python",
   "nbconvert_exporter": "python",
   "pygments_lexer": "ipython3",
   "version": "3.9.13"
  }
 },
 "nbformat": 4,
 "nbformat_minor": 5
}
