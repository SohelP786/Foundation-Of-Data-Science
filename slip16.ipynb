{
 "cells": [
  {
   "cell_type": "code",
   "execution_count": 5,
   "id": "89fa05da",
   "metadata": {},
   "outputs": [
    {
     "name": "stdout",
     "output_type": "stream",
     "text": [
      "avarage age= 22.333333333333332\n",
      "avaragw percentage= 61.666666666666664\n"
     ]
    }
   ],
   "source": [
    "#Write a python program to create a data frame for students’ information such as name, \n",
    "#graduation percentage and age. Display average age of students, average of graduation \n",
    "#percentage.\n",
    "\n",
    "import pandas as pd\n",
    "import numpy as np\n",
    "df=pd.DataFrame({'name':['om','sai','ram'],\n",
    "                'age':[22,23,22],\n",
    "                'per':[88,45,52]})\n",
    "df\n",
    "print(\"avarage age=\",np.mean(df['age']))\n",
    "print(\"avaragw percentage=\",np.mean(df['per']))"
   ]
  }
 ],
 "metadata": {
  "kernelspec": {
   "display_name": "Python 3 (ipykernel)",
   "language": "python",
   "name": "python3"
  },
  "language_info": {
   "codemirror_mode": {
    "name": "ipython",
    "version": 3
   },
   "file_extension": ".py",
   "mimetype": "text/x-python",
   "name": "python",
   "nbconvert_exporter": "python",
   "pygments_lexer": "ipython3",
   "version": "3.9.13"
  }
 },
 "nbformat": 4,
 "nbformat_minor": 5
}
